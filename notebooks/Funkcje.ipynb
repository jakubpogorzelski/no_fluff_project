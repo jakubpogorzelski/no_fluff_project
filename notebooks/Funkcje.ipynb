{
 "cells": [
  {
   "cell_type": "code",
   "execution_count": 1,
   "metadata": {},
   "outputs": [],
   "source": [
    "from selenium.webdriver import Chrome\n",
    "from selenium.webdriver.chrome.service import Service as ChromeService\n",
    "from selenium.webdriver.common.by import By\n",
    "import os\n",
    "import requests\n",
    "from bs4 import BeautifulSoup as soup"
   ]
  },
  {
   "cell_type": "code",
   "execution_count": 2,
   "metadata": {},
   "outputs": [],
   "source": [
    "def url_creator(keyword,page):\n",
    "    url = f'https://nofluffjobs.com/pl/{keyword}?page={page}'\n",
    "    return url"
   ]
  },
  {
   "cell_type": "code",
   "execution_count": 3,
   "metadata": {},
   "outputs": [],
   "source": [
    "def content_checker(url):\n",
    "    service = ChromeService('.drivers/chromedriver.exe')\n",
    "    browser = Chrome(service=service)\n",
    "    url_a = url\n",
    "    browser.get(url_a)\n",
    "    cookies = browser.find_element(by=By.ID, value='onetrust-accept-btn-handler').click()\n",
    "    if len(browser.find_elements(by=By.XPATH, value = \"/html/body/nfj-root/nfj-layout/nfj-main-content/div/nfj-postings-search/div/common-main-loader/nfj-search-results/nfj-postings-list/div[3]\" )) == 0: \n",
    "        return False\n",
    "    else:\n",
    "        return True\n"
   ]
  },
  {
   "cell_type": "code",
   "execution_count": 5,
   "metadata": {},
   "outputs": [
    {
     "data": {
      "text/plain": [
       "False"
      ]
     },
     "execution_count": 5,
     "metadata": {},
     "output_type": "execute_result"
    }
   ],
   "source": [
    "content_checker('https://nofluffjobs.com/pl/sql?page=23')"
   ]
  },
  {
   "cell_type": "code",
   "execution_count": 15,
   "metadata": {},
   "outputs": [],
   "source": [
    "service = ChromeService('.drivers/chromedriver.exe')\n",
    "browser = Chrome(service=service)\n",
    "\n",
    "url_b = 'https://nofluffjobs.com/pl/sql?page=21'\n",
    "content = browser.get(url_b)\n",
    "cookies = browser.find_element(by=By.ID, value='onetrust-accept-btn-handler').click()\n",
    "source = soup(browser.page_source)\n",
    "source\n",
    "with open('test_file.html', 'w', encoding='utf-8') as file:\n",
    "    file.write(str(source))\n"
   ]
  }
 ],
 "metadata": {
  "kernelspec": {
   "display_name": "Python 3",
   "language": "python",
   "name": "python3"
  },
  "language_info": {
   "codemirror_mode": {
    "name": "ipython",
    "version": 3
   },
   "file_extension": ".py",
   "mimetype": "text/x-python",
   "name": "python",
   "nbconvert_exporter": "python",
   "pygments_lexer": "ipython3",
   "version": "3.11.2"
  },
  "orig_nbformat": 4,
  "vscode": {
   "interpreter": {
    "hash": "0d8982f8523458a28501f6ecbcb4286f517732dc00c8593f90a87550e9b6a412"
   }
  }
 },
 "nbformat": 4,
 "nbformat_minor": 2
}
